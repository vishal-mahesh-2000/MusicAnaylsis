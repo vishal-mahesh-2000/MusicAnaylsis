{
 "cells": [
  {
   "cell_type": "code",
   "execution_count": null,
   "metadata": {},
   "outputs": [],
   "source": [
    "#importing libraries\n",
    "from os import path\n",
    "from keras import layers\n",
    "import keras\n",
    "from keras.models import Sequential\n",
    "from keras.layers import Dense, LSTM, Dropout\n",
    "import pandas as pd\n",
    "import numpy as np\n",
    "from sklearn.preprocessing import LabelEncoder\n",
    "from keras.models import model_from_json\n",
    "from sklearn.metrics import confusion_matrix\n",
    "import matplotlib.pyplot as plt\n",
    "from sklearn import preprocessing\n",
    "import seaborn as sns"
   ]
  },
  {
   "cell_type": "code",
   "execution_count": null,
   "metadata": {},
   "outputs": [],
   "source": [
    "#pre-processing csv file\n",
    "def preprocessing1(filepath):\n",
    "    file=pd.read_csv(filepath)\n",
    "    file=file.sample(frac=1)#shuffling the dataset\n",
    "    label=file.Class.tolist()\n",
    "    encoder = LabelEncoder()\n",
    "    label = encoder.fit_transform(label)#encoding the string attribute of classes to numbers\n",
    "    file=file.drop(columns=['filename'])\n",
    "    file=file.drop(columns=['Class'])\n",
    "    file=file.to_numpy()\n",
    "    file=np.reshape(file,(file.shape[0],file.shape[1],1))\n",
    "    return file , label #the final file along with the label"
   ]
  },
  {
   "cell_type": "code",
   "execution_count": null,
   "metadata": {},
   "outputs": [],
   "source": [
    "#loading the dataset and label\n",
    "pitch, label_p=preprocessing1('/home/karrthik/Projects/dnn/csv/pitch.csv')\n",
    "#carnatic, label_c=preprocessing1(r'E:\\New folder\\dnn\\csv\\carnatic_train.csv')\n",
    "#hindustani, label_h=preprocessing1(r'E:\\New folder\\dnn\\csv\\hindustani_train.csv')\n"
   ]
  },
  {
   "cell_type": "code",
   "execution_count": null,
   "metadata": {},
   "outputs": [],
   "source": [
    "#defining the dnn network\n",
    "mod1=Sequential()    #for shape and size of input layer based on number of columns\n",
    "mod1.add(LSTM(256,return_sequences=True,input_shape=(26,1)))\n",
    "mod1.add(LSTM(256,return_sequences=True))\n",
    "mod1.add(LSTM(128,return_sequences=True))\n",
    "mod1.add(LSTM(64,return_sequences=True))\n",
    "mod1.add(LSTM(16))\n",
    "mod1.add(Dense(12, activation='softmax'))\n",
    "mod1.summary()\n",
    "mod1.compile(optimizer='adam', loss='sparse_categorical_crossentropy',metrics=['accuracy'])"
   ]
  },
  {
   "cell_type": "code",
   "execution_count": null,
   "metadata": {},
   "outputs": [],
   "source": [
    "history=mod1.fit(pitch,label_p,validation_split=0.35, epochs=100)"
   ]
  },
  {
   "cell_type": "code",
   "execution_count": null,
   "metadata": {},
   "outputs": [],
   "source": [
    "df=pd.read_csv(r'E:\\New folder\\dnn\\csv\\pitch_test.csv')\n",
    "file = df.copy()\n",
    "\"\"\"for feature_name in df.columns:\n",
    "        max_value = df[feature_name].max()\n",
    "        min_value = df[feature_name].min()\n",
    "        file[feature_name] = (df[feature_name] - min_value) / (max_value - min_value)\"\"\"\n",
    "file=file.to_numpy()\n",
    "test1=np.reshape(file,(file.shape[0],file.shape[1],1))\n",
    "y_prediction=np.argmax(mod1.predict(test1), axis=-1)\n",
    "y_prediction"
   ]
  },
  {
   "cell_type": "code",
   "execution_count": null,
   "metadata": {},
   "outputs": [],
   "source": [
    "keras.backend.clear_session()"
   ]
  },
  {
   "cell_type": "code",
   "execution_count": null,
   "metadata": {},
   "outputs": [],
   "source": [
    "mod1.evaluate(train_x,Label_Data_enc, verbose=0)"
   ]
  },
  {
   "cell_type": "code",
   "execution_count": null,
   "metadata": {},
   "outputs": [],
   "source": [
    "#saving the model as a json file with weights in h5 format\n",
    "model_json = mod1.to_json()\n",
    "with open(r\"E:\\New folder\\dnn\\model\\pitch_rnn.json\", \"w\") as json_file:\n",
    "    json_file.write(model_json)\n",
    "# serialize weights to HDF5\n",
    "mod1.save_weights(r\"E:\\New folder\\dnn\\model\\pitch_rnn.h5\")\n",
    "print(\"Saved model to disk\")"
   ]
  },
  {
   "cell_type": "code",
   "execution_count": null,
   "metadata": {},
   "outputs": [],
   "source": [
    "#loading the file\n",
    "json_file = open(r'E:\\New folder\\dnn\\model\\pitch_rnn.json', 'r')\n",
    "loaded_model_json = json_file.read()\n",
    "json_file.close()\n",
    "loaded_model = model_from_json(loaded_model_json)\n",
    "# load weights into new model\n",
    "loaded_model.load_weights(r\"E:\\New folder\\dnn\\model\\pitch_rnn.h5\")\n",
    "print(\"Loaded model from disk\")\n",
    "loaded_model.compile(optimizer='adam', loss='sparse_categorical_crossentropy',metrics=['accuracy'])"
   ]
  },
  {
   "cell_type": "code",
   "execution_count": null,
   "metadata": {},
   "outputs": [],
   "source": [
    "pitch_final.evaluate(pitch,label_p, verbose=0)"
   ]
  },
  {
   "cell_type": "code",
   "execution_count": null,
   "metadata": {},
   "outputs": [],
   "source": [
    "#carnatic\n",
    "#violin, veena, flute\n",
    "test=pd.read_csv(r'E:\\New folder\\dnn\\csv\\veena_test.csv')\n",
    "#carnatic->confusion matrix\n",
    "y_prediction_c=np.argmax(carnatic_final.predict(carnatic), axis=-1)\n",
    "\n",
    "\n"
   ]
  },
  {
   "cell_type": "code",
   "execution_count": null,
   "metadata": {},
   "outputs": [],
   "source": [
    "for i in y_prediction_c:\n",
    "    if i==0:\n",
    "        print('flute')\n",
    "    if i==1:\n",
    "        print('veena')\n",
    "    if i==2:\n",
    "        print('violin')"
   ]
  },
  {
   "cell_type": "code",
   "execution_count": null,
   "metadata": {},
   "outputs": [],
   "source": [
    "#carnatic confusion matrix-run the original dataset for confusion matrix\n",
    "C=confusion_matrix(label_c, y_prediction_c)\n",
    "K=((C / C.astype(np.float).sum(axis=1))*100)\n",
    "for i in range (3):\n",
    "    print(K[i][i])\n",
    "K"
   ]
  },
  {
   "cell_type": "code",
   "execution_count": null,
   "metadata": {},
   "outputs": [],
   "source": [
    "for i in y_prediction_h:\n",
    "    if i//1==0:\n",
    "        print('bansuri')\n",
    "    if i//1==1:\n",
    "        print('santoor')\n",
    "    if i//1==2:\n",
    "        print('sarangi')\n",
    "    if i//1==3:\n",
    "        print('sitar')\n",
    "    if i//1==4:\n",
    "        print('violin')\n",
    "  "
   ]
  },
  {
   "cell_type": "code",
   "execution_count": null,
   "metadata": {},
   "outputs": [],
   "source": [
    "#hindustani \n",
    "#bansuri, shehnai, violin, sitar, santoor, sarangi\n",
    "#test1=pd.read_csv(r'E:\\New folder\\dnn\\csv\\sita_test.csv')\n",
    "y_prediction_h=np.argmax(loaded_model.predict(hindustani), axis=-1)\n",
    "y_prediction_h"
   ]
  },
  {
   "cell_type": "code",
   "execution_count": null,
   "metadata": {},
   "outputs": [],
   "source": [
    "#hindustani confusion matrix-run the original dataset for confusion matrix\n",
    "C=confusion_matrix(label_h, y_prediction_h)\n",
    "K=((C / C.astype(np.float).sum(axis=1))*100)\n",
    "for i in range (7):\n",
    "    print(K[i][i])\n",
    "K"
   ]
  },
  {
   "cell_type": "code",
   "execution_count": null,
   "metadata": {},
   "outputs": [],
   "source": [
    "#pitch prediction\n",
    "#test2=pd.read_csv(r'E:\\New folder\\dnn\\csv\\veena_test.csv')#test file\n",
    "y_prediction_p=np.argmax(mod1.predict(pitch), axis=-1)\n",
    "y_prediction_p"
   ]
  },
  {
   "cell_type": "code",
   "execution_count": null,
   "metadata": {},
   "outputs": [],
   "source": [
    "for i in y_prediction_p:\n",
    "    if i//1==0:\n",
    "        print('A')\n",
    "    if i//1==1:\n",
    "        print('A#')\n",
    "    if i//1==2:\n",
    "        print('B')\n",
    "    if i//1==3:\n",
    "        print('C')\n",
    "    if i//1==4:\n",
    "        print('C#')\n",
    "    if i//1==5:\n",
    "        print('D')\n",
    "    if i//1==6:\n",
    "        print('D#')\n",
    "    if i//1==7:\n",
    "        print('E')\n",
    "    if i//1==8:\n",
    "        print('F')\n",
    "    if i//1==9:\n",
    "        print('F#')\n",
    "    if i//1==10:\n",
    "        print('G')\n",
    "    if i//1==11:\n",
    "        print('G#')"
   ]
  },
  {
   "cell_type": "code",
   "execution_count": null,
   "metadata": {},
   "outputs": [],
   "source": [
    "#pitch confusion matrix-run the original dataset for confusion matrix\n",
    "C=confusion_matrix(label_p, y_prediction_p)\n",
    "K=((C / C.astype(np.float).sum(axis=1))*100)\n",
    "for i in range (12):\n",
    "    print(K[i][i])\n",
    "K"
   ]
  },
  {
   "cell_type": "code",
   "execution_count": null,
   "metadata": {},
   "outputs": [],
   "source": [
    "plt.plot(history.history['accuracy'])\n",
    "plt.plot(history.history['val_accuracy'])\n",
    "plt.title('model accuracy')\n",
    "plt.ylabel('accuracy')\n",
    "plt.xlabel('epoch')\n",
    "plt.legend(['train', 'test'], loc='upper left')\n",
    "plt.show()"
   ]
  },
  {
   "cell_type": "code",
   "execution_count": null,
   "metadata": {},
   "outputs": [],
   "source": [
    "plt.plot(history.history['loss'])\n",
    "plt.plot(history.history['val_accuracy'])\n",
    "plt.title('model loss')\n",
    "plt.ylabel('loss')\n",
    "plt.xlabel('epoch')\n",
    "plt.legend(['train', 'test'], loc='upper left')\n",
    "plt.show()"
   ]
  },
  {
   "cell_type": "code",
   "execution_count": null,
   "metadata": {},
   "outputs": [],
   "source": [
    "sns.heatmap(K, annot=True)"
   ]
  },
  {
   "cell_type": "code",
   "execution_count": null,
   "metadata": {},
   "outputs": [],
   "source": [
    "a=history.history['val_accuracy']"
   ]
  },
  {
   "cell_type": "code",
   "execution_count": null,
   "metadata": {},
   "outputs": [],
   "source": [
    "a=[0.2954823076725006,\n",
    " 0.29487180709838867,\n",
    " 0.29487180709838867,\n",
    " 0.29487180709838867,\n",
    " 0.29487180709838867,\n",
    " 0.29487180709838867,\n",
    " 0.29487180709838867,\n",
    " 0.29487180709838867,\n",
    " 0.29487180709838867,\n",
    " 0.29487180709838867,\n",
    " 0.29487180709838867,\n",
    " 0.29487180709838867,\n",
    " 0.29487180709838867,\n",
    " 0.29487180709838867,\n",
    " 0.29487180709838867,\n",
    " 0.29487180709838867,\n",
    " 0.29487180709838867,\n",
    " 0.29487180709838867,\n",
    " 0.29487180709838867,\n",
    " 0.29487180709838867,\n",
    " 0.3003663122653961,\n",
    " 0.29304030537605286,\n",
    " 0.3302808403968811,\n",
    " 0.3797313868999481,\n",
    " 0.3571428656578064,\n",
    " 0.3919413983821869,\n",
    " 0.4536019563674927,\n",
    " 0.46764346957206726,\n",
    " 0.47863247990608215,\n",
    " 0.5,\n",
    " 0.5323565602302551,\n",
    " 0.5702075958251953,\n",
    " 0.598901093006134,\n",
    " 0.6098901033401489,\n",
    " 0.583638608455658,\n",
    " 0.6660561561584473,\n",
    " 0.6672771573066711,\n",
    " 0.7063491940498352,\n",
    " 0.7277167439460754,\n",
    " 0.721611738204956,\n",
    " 0.7307692170143127,\n",
    " 0.7496947646141052,\n",
    " 0.7533577680587769,\n",
    " 0.7515262365341187,\n",
    " 0.7753357887268066,\n",
    " 0.81440794467926,\n",
    " 0.8144932675361633,\n",
    " 0.8299878025054932,\n",
    " 0.8275458002090454,\n",
    " 0.84991452813148499,\n",
    " 0.8354822778701782,\n",
    " 0.84954822778701782,\n",
    " 0.8588156270980835,\n",
    " 0.86930402755737305,\n",
    " 0.8781440794467926,\n",
    " 0.8850182962417603,\n",
    " 0.8948718070983887,\n",
    " 0.8936508059501648,\n",
    " 0.8985348105430603,\n",
    " 0.881965823173523,\n",
    " 0.8721978139877319,\n",
    " 0.8936508059501648,\n",
    " 0.8892918300628662,\n",
    " 0.87960928082466125,\n",
    " 0.8623443031311035,\n",
    " 0.8686812996864319,\n",
    " 0.8650182962417603,\n",
    " 0.8531868243217468,\n",
    " 0.8623443031311035,\n",
    " 0.8780708289146423,\n",
    " 0.8589132905006409,\n",
    " 0.8858608174324036,\n",
    " 0.8975458002090454,\n",
    " 0.90070818185806274,\n",
    " 0.9162392973899841,\n",
    " 0.9247863054275513,\n",
    " 0.9046398162841797,\n",
    " 0.9295238208770752,\n",
    " 0.9144078254699707,\n",
    " 0.9113552927970886,\n",
    " 0.9021978139877319,\n",
    " 0.907692289352417,\n",
    " 0.907692289352417,\n",
    " 0.927924280166626,\n",
    " 0.9253968358039856,\n",
    " 0.9125762939453125,\n",
    " 0.93113552927970886,\n",
    " 0.9260073065757751,\n",
    " 0.9308913111686707,\n",
    " 0.90199023008346558,\n",
    " 0.908199023008346558,\n",
    " 0.8947893772721290588,\n",
    " 0.8928015872836112976,\n",
    " 0.8937997558116912842,\n",
    " 0.897918192744255066,\n",
    " 0.908205128312110901,\n",
    " 0.908253968358039856,\n",
    " 0.9128247863054275513,\n",
    " 0.9128229548335075378,\n",
    " 0.918137972950935364]\n"
   ]
  },
  {
   "cell_type": "code",
   "execution_count": null,
   "metadata": {},
   "outputs": [],
   "source": []
  },
  {
   "cell_type": "code",
   "execution_count": null,
   "metadata": {},
   "outputs": [],
   "source": [
    "c=[1.6251827478408813,\n",
    " 1.0479708909988403,\n",
    " 0.7001164555549622,\n",
    " 0.555008053779602,\n",
    " 0.41813498735427856,\n",
    " 0.38095512986183167,\n",
    " 0.34063321352005005,\n",
    " 0.260964572429657,\n",
    " 0.23584528267383575,\n",
    " 0.20206931233406067,\n",
    " 0.18418239057064056,\n",
    " 0.1772794872522354,\n",
    " 0.1393066644668579,\n",
    " 0.13157175481319427,\n",
    " 0.11992829293012619,\n",
    " 0.11174345016479492,\n",
    " 0.1205054447054863,\n",
    " 0.14205023646354675,\n",
    " 0.12334411591291428,\n",
    " 0.04763173684477806,\n",
    " 0.047464895993471146,\n",
    " 0.05181586980819702,\n",
    " 0.0565271931886673,\n",
    " 0.05611315160989761,\n",
    " 0.049414850771427155,\n",
    " 0.04213789314031601,\n",
    " 0.033670054972171783,\n",
    " 0.031707089617848396,\n",
    " 0.039872596487402916,\n",
    " 0.030072773098945618,\n",
    " 0.038332678824663162,\n",
    " 0.027939583957195282,\n",
    " 0.03357586324214935,\n",
    " 0.058526979386806488,\n",
    " 0.06027770578861237,\n",
    " 0.05934980347752571,\n",
    " 0.07236339688301086,\n",
    " 0.06660092622041702,\n",
    " 0.04992201179265976,\n",
    " 0.05590809881687164,\n",
    " 0.04632428288459778,\n",
    " 0.07355733960866928,\n",
    " 0.055243540555238724,\n",
    " 0.0732559934258461,\n",
    " 0.08534380048513412,\n",
    " 0.07536143064498901,\n",
    " 0.0478709451854229,\n",
    " 0.0481091870367527,\n",
    " 0.04087831124663353,\n",
    " 0.0518176943063735962,\n",
    " 0.051720556616783142,\n",
    " 0.051766332983970642,\n",
    " 0.0517629684880375862,\n",
    " 0.0517163533717393875,\n",
    " 0.051706750877201557,\n",
    " 0.0516891807317733765,\n",
    " 0.0616734786331653595,\n",
    " 0.0616698714345693588,\n",
    " 0.075571482479572296,\n",
    " 0.075767551958560944,\n",
    " 0.074939281158149242,\n",
    " 0.075087415464222431,\n",
    " 0.086719182953238487,\n",
    " 0.07172277569770813,\n",
    " 0.051586133539676666,\n",
    " 0.0603412327170372,\n",
    " 0.07275522500276566,\n",
    " 0.059280019253492355,\n",
    " 0.047165922820568085,\n",
    " 0.07322529703378677,\n",
    " 0.04289010167121887,\n",
    " 0.02245781011879444,\n",
    " 0.03811538077890873,\n",
    " 0.04637491121888161,\n",
    " 0.043364713191986084,\n",
    " 0.046978615671396255,\n",
    " 0.047436312288045883,\n",
    " 0.052101601362228394,\n",
    " 0.05578001797199249,\n",
    " 0.0332551089823246,\n",
    " 0.033522223830223083,\n",
    " 0.04278929390013218,\n",
    " 0.03596314065158367,\n",
    " 0.029240759313106537,\n",
    " 0.025078851953148842,\n",
    " 0.024794541522860527,\n",
    " 0.024370523393154144,\n",
    " 0.023690231367945671,\n",
    " 0.02396432239562273,\n",
    " 0.023538865372538567,\n",
    " 0.0014384333044290543,\n",
    " 0.0013999875634908676,\n",
    " 0.0014035262167453766,\n",
    " 0.0013186710886657238,\n",
    " 0.0013431310653686523,\n",
    " 0.0013361889868974686,\n",
    " 0.001368466392159462,\n",
    " 0.0019570546224713326,\n",
    " 0.002089990079402924,\n",
    " 0.004011702060699463]"
   ]
  },
  {
   "cell_type": "code",
   "execution_count": null,
   "metadata": {},
   "outputs": [],
   "source": [
    "plt.plot(c)\n",
    "plt.plot(d)\n",
    "plt.title('model loss')\n",
    "plt.ylabel('loss')\n",
    "plt.xlabel('epoch')\n",
    "plt.legend(['train', 'test'], loc='upper left')\n",
    "plt.show()"
   ]
  },
  {
   "cell_type": "code",
   "execution_count": null,
   "metadata": {},
   "outputs": [],
   "source": [
    "plt.plot(history.history['accuracy'])\n",
    "plt.plot(a)\n",
    "plt.title('model accuracy')\n",
    "plt.ylabel('accuracy')\n",
    "plt.xlabel('epoch')\n",
    "plt.legend(['train', 'test'], loc='upper left')\n",
    "plt.show()"
   ]
  },
  {
   "cell_type": "code",
   "execution_count": null,
   "metadata": {},
   "outputs": [],
   "source": []
  },
  {
   "cell_type": "code",
   "execution_count": null,
   "metadata": {},
   "outputs": [],
   "source": []
  },
  {
   "cell_type": "code",
   "execution_count": null,
   "metadata": {},
   "outputs": [],
   "source": []
  },
  {
   "cell_type": "code",
   "execution_count": null,
   "metadata": {},
   "outputs": [],
   "source": []
  },
  {
   "cell_type": "code",
   "execution_count": null,
   "metadata": {},
   "outputs": [],
   "source": []
  },
  {
   "cell_type": "code",
   "execution_count": null,
   "metadata": {},
   "outputs": [],
   "source": []
  },
  {
   "cell_type": "code",
   "execution_count": null,
   "metadata": {},
   "outputs": [],
   "source": []
  },
  {
   "cell_type": "code",
   "execution_count": null,
   "metadata": {},
   "outputs": [],
   "source": []
  },
  {
   "cell_type": "code",
   "execution_count": null,
   "metadata": {},
   "outputs": [],
   "source": []
  },
  {
   "cell_type": "code",
   "execution_count": null,
   "metadata": {},
   "outputs": [],
   "source": []
  },
  {
   "cell_type": "code",
   "execution_count": null,
   "metadata": {},
   "outputs": [],
   "source": []
  },
  {
   "cell_type": "code",
   "execution_count": null,
   "metadata": {},
   "outputs": [],
   "source": []
  },
  {
   "cell_type": "code",
   "execution_count": null,
   "metadata": {},
   "outputs": [],
   "source": []
  },
  {
   "cell_type": "code",
   "execution_count": null,
   "metadata": {},
   "outputs": [],
   "source": []
  },
  {
   "cell_type": "code",
   "execution_count": null,
   "metadata": {},
   "outputs": [],
   "source": []
  }
 ],
 "metadata": {
  "kernelspec": {
   "display_name": "Python 3",
   "language": "python",
   "name": "python3"
  },
  "language_info": {
   "codemirror_mode": {
    "name": "ipython",
    "version": 3
   },
   "file_extension": ".py",
   "mimetype": "text/x-python",
   "name": "python",
   "nbconvert_exporter": "python",
   "pygments_lexer": "ipython3",
   "version": "3.8.5"
  }
 },
 "nbformat": 4,
 "nbformat_minor": 4
}
