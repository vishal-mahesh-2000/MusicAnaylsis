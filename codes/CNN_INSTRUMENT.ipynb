{
 "cells": [
  {
   "cell_type": "code",
   "execution_count": 1,
   "metadata": {},
   "outputs": [],
   "source": [
    "#importing libraries\n",
    "from os import path\n",
    "from keras import layers\n",
    "import keras\n",
    "from keras.models import Sequential\n",
    "from keras.layers import Dense, LSTM, Dropout, Conv1D, Flatten, MaxPooling1D\n",
    "import pandas as pd\n",
    "import numpy as np\n",
    "from sklearn.preprocessing import LabelEncoder\n",
    "from keras.models import model_from_json\n",
    "from sklearn.metrics import confusion_matrix\n",
    "import matplotlib.pyplot as plt\n",
    "from keras.callbacks import EarlyStopping\n",
    "import seaborn as sns"
   ]
  },
  {
   "cell_type": "code",
   "execution_count": 2,
   "metadata": {},
   "outputs": [],
   "source": [
    "#pre-processing csv file\n",
    "def preprocessing(filepath):\n",
    "    file=pd.read_csv(filepath)\n",
    "    file=file.sample(frac=1)#shuffling the dataset\n",
    "    label=file.Class.tolist()\n",
    "    encoder = LabelEncoder()\n",
    "    label1 = encoder.fit_transform(label)#encoding the string attribute of classes to numbers\n",
    "    file=file.drop(columns=['filename'])\n",
    "    file=file.drop(columns=['Class'])\n",
    "    file=file.to_numpy()\n",
    "    file=np.reshape(file,(file.shape[0],file.shape[1],1))\n",
    "    for i in range(100):\n",
    "        print(label[i],\"------>\", label1[i])\n",
    "    return file , label1 #the final file along with the label"
   ]
  },
  {
   "cell_type": "code",
   "execution_count": 3,
   "metadata": {},
   "outputs": [
    {
     "name": "stdout",
     "output_type": "stream",
     "text": [
      "Flute ------> 0\n",
      "Violin ------> 4\n",
      "Nadaswaram ------> 2\n",
      "Violin ------> 4\n",
      "Flute ------> 0\n",
      "Violin ------> 4\n",
      "Veena ------> 3\n",
      "Mandolin ------> 1\n",
      "Violin ------> 4\n",
      "Mandolin ------> 1\n",
      "saxophone ------> 5\n",
      "Veena ------> 3\n",
      "saxophone ------> 5\n",
      "Violin ------> 4\n",
      "Violin ------> 4\n",
      "saxophone ------> 5\n",
      "Violin ------> 4\n",
      "Violin ------> 4\n",
      "Veena ------> 3\n",
      "Flute ------> 0\n",
      "Violin ------> 4\n",
      "Mandolin ------> 1\n",
      "Nadaswaram ------> 2\n",
      "Violin ------> 4\n",
      "Violin ------> 4\n",
      "Mandolin ------> 1\n",
      "Violin ------> 4\n",
      "saxophone ------> 5\n",
      "saxophone ------> 5\n",
      "Violin ------> 4\n",
      "Violin ------> 4\n",
      "Nadaswaram ------> 2\n",
      "Violin ------> 4\n",
      "Violin ------> 4\n",
      "Violin ------> 4\n",
      "Veena ------> 3\n",
      "Nadaswaram ------> 2\n",
      "Violin ------> 4\n",
      "Violin ------> 4\n",
      "Violin ------> 4\n",
      "saxophone ------> 5\n",
      "Veena ------> 3\n",
      "saxophone ------> 5\n",
      "Violin ------> 4\n",
      "Violin ------> 4\n",
      "Violin ------> 4\n",
      "Veena ------> 3\n",
      "Flute ------> 0\n",
      "Violin ------> 4\n",
      "Violin ------> 4\n",
      "saxophone ------> 5\n",
      "Flute ------> 0\n",
      "Violin ------> 4\n",
      "Violin ------> 4\n",
      "Flute ------> 0\n",
      "Veena ------> 3\n",
      "saxophone ------> 5\n",
      "saxophone ------> 5\n",
      "Violin ------> 4\n",
      "Veena ------> 3\n",
      "Violin ------> 4\n",
      "Violin ------> 4\n",
      "saxophone ------> 5\n",
      "Flute ------> 0\n",
      "Mandolin ------> 1\n",
      "saxophone ------> 5\n",
      "Violin ------> 4\n",
      "Veena ------> 3\n",
      "Violin ------> 4\n",
      "Violin ------> 4\n",
      "saxophone ------> 5\n",
      "Violin ------> 4\n",
      "saxophone ------> 5\n",
      "Mandolin ------> 1\n",
      "saxophone ------> 5\n",
      "saxophone ------> 5\n",
      "Nadaswaram ------> 2\n",
      "Flute ------> 0\n",
      "saxophone ------> 5\n",
      "Violin ------> 4\n",
      "Violin ------> 4\n",
      "Violin ------> 4\n",
      "Violin ------> 4\n",
      "Violin ------> 4\n",
      "Violin ------> 4\n",
      "Veena ------> 3\n",
      "Violin ------> 4\n",
      "Flute ------> 0\n",
      "Nadaswaram ------> 2\n",
      "Violin ------> 4\n",
      "Violin ------> 4\n",
      "Violin ------> 4\n",
      "saxophone ------> 5\n",
      "Flute ------> 0\n",
      "Mandolin ------> 1\n",
      "saxophone ------> 5\n",
      "saxophone ------> 5\n",
      "Nadaswaram ------> 2\n",
      "saxophone ------> 5\n",
      "Violin ------> 4\n"
     ]
    }
   ],
   "source": [
    "carnatic,label_carnatic=preprocessing('/home/karrthik/Projects/dnn/csv/carnatic_final.csv')"
   ]
  },
  {
   "cell_type": "code",
   "execution_count": 4,
   "metadata": {},
   "outputs": [],
   "source": [
    "\n",
    "def Conv_Neural_Net(x_train,y_train):\n",
    "    #x_train=Image_Data\n",
    "    #y_train=Label_Data\n",
    "    \n",
    "    #create model\n",
    "    model = Sequential()\n",
    "    #add model layers\n",
    "    model.add(layers.Conv1D(32,3, activation = \"relu\",padding = 'same', input_shape=(26,1)))\n",
    "    model.add(layers.Conv1D(64,3,activation = 'relu',padding = 'same'))\n",
    "    model.add(layers.Flatten())\n",
    "    model.add(layers.Dropout(0.5))\n",
    "    model.add(layers.Dense(64,activation = 'relu'))\n",
    "    model.add(layers.Dense(20,activation = 'softmax'))\n",
    "    model.summary()\n",
    "    \n",
    "    #compile model using accuracy to measure model performance\n",
    "    model.compile(optimizer='adam', loss='sparse_categorical_crossentropy', metrics=['accuracy'])\n",
    "    \n",
    "    #train the model\n",
    "    history=model.fit(x_train, y_train, validation_split =0.40, epochs=20)\n",
    "    return model, history"
   ]
  },
  {
   "cell_type": "code",
   "execution_count": 28,
   "metadata": {},
   "outputs": [
    {
     "name": "stdout",
     "output_type": "stream",
     "text": [
      "Model: \"sequential_3\"\n",
      "_________________________________________________________________\n",
      "Layer (type)                 Output Shape              Param #   \n",
      "=================================================================\n",
      "conv1d_4 (Conv1D)            (None, 26, 32)            128       \n",
      "_________________________________________________________________\n",
      "conv1d_5 (Conv1D)            (None, 26, 64)            6208      \n",
      "_________________________________________________________________\n",
      "flatten_2 (Flatten)          (None, 1664)              0         \n",
      "_________________________________________________________________\n",
      "dropout_2 (Dropout)          (None, 1664)              0         \n",
      "_________________________________________________________________\n",
      "dense_4 (Dense)              (None, 64)                106560    \n",
      "_________________________________________________________________\n",
      "dense_5 (Dense)              (None, 20)                1300      \n",
      "=================================================================\n",
      "Total params: 114,196\n",
      "Trainable params: 114,196\n",
      "Non-trainable params: 0\n",
      "_________________________________________________________________\n",
      "Epoch 1/20\n",
      "57/57 [==============================] - 2s 15ms/step - loss: 58.3647 - accuracy: 0.2610 - val_loss: 1.5424 - val_accuracy: 0.4580\n",
      "Epoch 2/20\n",
      "57/57 [==============================] - 1s 10ms/step - loss: 4.5672 - accuracy: 0.2977 - val_loss: 2.2258 - val_accuracy: 0.2868\n",
      "Epoch 3/20\n",
      "57/57 [==============================] - 1s 11ms/step - loss: 2.3441 - accuracy: 0.4021 - val_loss: 1.5413 - val_accuracy: 0.5071\n",
      "Epoch 4/20\n",
      "57/57 [==============================] - 1s 10ms/step - loss: 1.5092 - accuracy: 0.5567 - val_loss: 0.8802 - val_accuracy: 0.7140\n",
      "Epoch 5/20\n",
      "57/57 [==============================] - 1s 10ms/step - loss: 1.0221 - accuracy: 0.6662 - val_loss: 0.7456 - val_accuracy: 0.7465\n",
      "Epoch 6/20\n",
      "57/57 [==============================] - 1s 12ms/step - loss: 0.9196 - accuracy: 0.6869 - val_loss: 0.6360 - val_accuracy: 0.7922\n",
      "Epoch 7/20\n",
      "57/57 [==============================] - 1s 10ms/step - loss: 0.7323 - accuracy: 0.7544 - val_loss: 0.5377 - val_accuracy: 0.8138\n",
      "Epoch 8/20\n",
      "57/57 [==============================] - 1s 10ms/step - loss: 0.5702 - accuracy: 0.8172 - val_loss: 0.5021 - val_accuracy: 0.8437\n",
      "Epoch 9/20\n",
      "57/57 [==============================] - 1s 13ms/step - loss: 0.5516 - accuracy: 0.7891 - val_loss: 0.3796 - val_accuracy: 0.8736\n",
      "Epoch 10/20\n",
      "57/57 [==============================] - 1s 12ms/step - loss: 0.4411 - accuracy: 0.8490 - val_loss: 0.3404 - val_accuracy: 0.8869\n",
      "Epoch 11/20\n",
      "57/57 [==============================] - 1s 11ms/step - loss: 0.4277 - accuracy: 0.8426 - val_loss: 0.3019 - val_accuracy: 0.9011\n",
      "Epoch 12/20\n",
      "57/57 [==============================] - 1s 12ms/step - loss: 0.3447 - accuracy: 0.8820 - val_loss: 0.2828 - val_accuracy: 0.9111\n",
      "Epoch 13/20\n",
      "57/57 [==============================] - 1s 13ms/step - loss: 0.2995 - accuracy: 0.9042 - val_loss: 0.2350 - val_accuracy: 0.9285\n",
      "Epoch 14/20\n",
      "57/57 [==============================] - 1s 11ms/step - loss: 0.2658 - accuracy: 0.9105 - val_loss: 0.2298 - val_accuracy: 0.9310\n",
      "Epoch 15/20\n",
      "57/57 [==============================] - 1s 11ms/step - loss: 0.2817 - accuracy: 0.9080 - val_loss: 0.1972 - val_accuracy: 0.9401\n",
      "Epoch 16/20\n",
      "57/57 [==============================] - 1s 12ms/step - loss: 0.2342 - accuracy: 0.9194 - val_loss: 0.1860 - val_accuracy: 0.9426\n",
      "Epoch 17/20\n",
      "57/57 [==============================] - 1s 12ms/step - loss: 0.2069 - accuracy: 0.9333 - val_loss: 0.1618 - val_accuracy: 0.9476\n",
      "Epoch 18/20\n",
      "57/57 [==============================] - 1s 11ms/step - loss: 0.1754 - accuracy: 0.9424 - val_loss: 0.1841 - val_accuracy: 0.9343\n",
      "Epoch 19/20\n",
      "57/57 [==============================] - 1s 11ms/step - loss: 0.1704 - accuracy: 0.9454 - val_loss: 0.1671 - val_accuracy: 0.9493\n",
      "Epoch 20/20\n",
      "57/57 [==============================] - 1s 10ms/step - loss: 0.1466 - accuracy: 0.9614 - val_loss: 0.1466 - val_accuracy: 0.9568\n"
     ]
    }
   ],
   "source": [
    "cnn_carnatic1,history = Conv_Neural_Net(carnatic,label_carnatic)"
   ]
  },
  {
   "cell_type": "code",
   "execution_count": 123,
   "metadata": {},
   "outputs": [
    {
     "name": "stdout",
     "output_type": "stream",
     "text": [
      "Epoch 1/10\n",
      "53/53 [==============================] - 1s 15ms/step - loss: 0.2480 - accuracy: 0.9142 - val_loss: 0.2176 - val_accuracy: 0.9432\n",
      "Epoch 2/10\n",
      "53/53 [==============================] - 1s 15ms/step - loss: 0.2180 - accuracy: 0.9249 - val_loss: 0.2657 - val_accuracy: 0.9290\n",
      "Epoch 3/10\n",
      "53/53 [==============================] - 1s 14ms/step - loss: 0.2214 - accuracy: 0.9266 - val_loss: 0.2214 - val_accuracy: 0.9343\n",
      "Epoch 4/10\n",
      "53/53 [==============================] - 1s 15ms/step - loss: 0.2052 - accuracy: 0.9343 - val_loss: 0.1909 - val_accuracy: 0.9494\n",
      "Epoch 5/10\n",
      "53/53 [==============================] - 1s 14ms/step - loss: 0.1721 - accuracy: 0.9521 - val_loss: 0.1856 - val_accuracy: 0.9432\n",
      "Epoch 6/10\n",
      "53/53 [==============================] - 1s 14ms/step - loss: 0.2301 - accuracy: 0.9308 - val_loss: 0.2420 - val_accuracy: 0.9335\n",
      "Epoch 7/10\n",
      "53/53 [==============================] - 1s 14ms/step - loss: 0.1622 - accuracy: 0.9491 - val_loss: 0.1933 - val_accuracy: 0.9335\n",
      "Epoch 8/10\n",
      "53/53 [==============================] - 1s 16ms/step - loss: 0.1623 - accuracy: 0.9456 - val_loss: 0.1677 - val_accuracy: 0.9547\n",
      "Epoch 9/10\n",
      "53/53 [==============================] - 1s 14ms/step - loss: 0.1385 - accuracy: 0.9533 - val_loss: 0.2740 - val_accuracy: 0.9130\n",
      "Epoch 10/10\n",
      "53/53 [==============================] - 1s 14ms/step - loss: 0.1831 - accuracy: 0.9343 - val_loss: 0.2474 - val_accuracy: 0.9166\n"
     ]
    },
    {
     "data": {
      "text/plain": [
       "<tensorflow.python.keras.callbacks.History at 0x7f6e420debb0>"
      ]
     },
     "execution_count": 123,
     "metadata": {},
     "output_type": "execute_result"
    }
   ],
   "source": [
    "cnn_carnatic.fit(carnatic, label_carnatic, validation_split =0.40, epochs=1)"
   ]
  },
  {
   "cell_type": "code",
   "execution_count": 39,
   "metadata": {},
   "outputs": [
    {
     "data": {
      "text/plain": [
       "array([4, 0, 4, 4, 4, 4, 4, 4, 4, 4, 4, 4, 4, 4, 4, 4, 4, 4, 4, 4, 4, 4,\n",
       "       4, 4, 4, 4, 4, 4, 5, 4, 4, 4, 4, 4, 4, 4, 4, 4, 4, 5, 4, 4, 4, 4,\n",
       "       4, 4, 4, 4, 4, 4, 4, 4, 4, 4, 4, 4, 4, 4, 4, 4, 4, 4, 4, 5, 4, 4,\n",
       "       4, 4, 4, 4, 4, 4, 4, 4, 4, 4, 4, 4, 4, 4, 4, 4, 4, 4, 4, 4, 4, 4,\n",
       "       4, 4, 4, 4, 4, 4, 4, 4, 4, 4, 4, 4, 4, 4, 4, 4, 4, 4, 4, 4, 4, 4,\n",
       "       4, 4, 4, 4, 4])"
      ]
     },
     "execution_count": 39,
     "metadata": {},
     "output_type": "execute_result"
    }
   ],
   "source": [
    "#model_raga=loaded_model\n",
    "df=pd.read_csv('/home/karrthik/Projects/dnn/csv/saxophone_test.csv')\n",
    "file = df.copy()\n",
    "#file=file.drop(columns=['filename'])\n",
    "#file=file.drop(columns=['raga'])\n",
    "file=file.to_numpy()\n",
    "test1=np.reshape(file,(file.shape[0],file.shape[1],1))\n",
    "y_prediction=np.argmax(cnn_carnatic.predict(test1), axis=-1)\n",
    "y_prediction"
   ]
  },
  {
   "cell_type": "code",
   "execution_count": null,
   "metadata": {},
   "outputs": [],
   "source": [
    "#saving the model as a json file with weights in h5 format\n",
    "model_json = model_raga.to_json()\n",
    "with open(\"/home/green/Projects/dnn/model/rnn_instrument.json\", \"w\") as json_file:\n",
    "    json_file.write(model_json)\n",
    "# serialize weights to HDF5\n",
    "model_raga.save_weights(\"/home/green/Projects/dnn/model/rnn_instrument.h5\")\n",
    "print(\"Saved model to disk\")"
   ]
  },
  {
   "cell_type": "code",
   "execution_count": null,
   "metadata": {},
   "outputs": [],
   "source": [
    "for i in y_prediction:\n",
    "    if i//1==0:\n",
    "        print('Purvikalyani')\n",
    "    if i//1==1:\n",
    "        print('bahudari')\n",
    "    if i//1==2:\n",
    "        print('bauli')\n",
    "    if i//1==3:\n",
    "        print('behag')\n",
    "    if i//1==4:\n",
    "        print('brindavana saranga')\n",
    "    if i//1==5:\n",
    "        print('gambhira nata')\n",
    "    if i//1==6:\n",
    "        print('hamsadhvani')\n",
    "    if i//1==7:\n",
    "        print('kalyani')\n",
    "    if i//1==8:\n",
    "        print('kapi')\n",
    "    if i//1==9:\n",
    "        print('madyamavati')\n",
    "    if i//1==10:\n",
    "        print('natakurinji')\n",
    "    if i//1==11:\n",
    "        print('ragamalika ')\n",
    "    if i//1==12:\n",
    "        print('riti gaula')\n",
    "    if i//1==13:\n",
    "        print('saramathi ')\n",
    "    if i//1==14:\n",
    "        print('sindhubhairavi ')\n",
    "    if i//1==15:\n",
    "        print('yamuna kalyani')\n",
    "\"change according to wha\""
   ]
  },
  {
   "cell_type": "code",
   "execution_count": null,
   "metadata": {},
   "outputs": [],
   "source": [
    "for i in y_prediction_c:\n",
    "    if i==0:\n",
    "        print('flute')\n",
    "    if i==1:\n",
    "        print('veena')\n",
    "    if i==2:\n",
    "        print('violin')"
   ]
  },
  {
   "cell_type": "code",
   "execution_count": null,
   "metadata": {},
   "outputs": [],
   "source": [
    "for i in y_prediction_h:\n",
    "    if i//1==0:\n",
    "        print('bansuri')\n",
    "    if i//1==1:\n",
    "        print('santoor')\n",
    "    if i//1==2:\n",
    "        print('sarangi')\n",
    "    if i//1==3:\n",
    "        print('sarod')\n",
    "    if i//1==4:\n",
    "        print('shehnai')\n",
    "    if i//1==5:\n",
    "        print('sitar')\n",
    "    if i//1==6:\n",
    "        print('violin')\n",
    "  "
   ]
  },
  {
   "cell_type": "code",
   "execution_count": 19,
   "metadata": {},
   "outputs": [
    {
     "name": "stdout",
     "output_type": "stream",
     "text": [
      "98.48942598187311\n",
      "98.30508474576271\n",
      "99.16666666666667\n",
      "98.68667917448406\n",
      "99.39531368102796\n"
     ]
    }
   ],
   "source": [
    "y_prediction_raga=np.argmax(cnn_carnatic.predict(carnatic), axis=-1)\n",
    "y_prediction_raga\n",
    "C=confusion_matrix(label_carnatic, y_prediction_raga)\n",
    "K=((C / C.astype(np.float).sum(axis=1))*100)\n",
    "for i in range (5):\n",
    "    print(K[i][i])"
   ]
  },
  {
   "cell_type": "code",
   "execution_count": 20,
   "metadata": {},
   "outputs": [
    {
     "data": {
      "text/plain": [
       "<AxesSubplot:>"
      ]
     },
     "execution_count": 20,
     "metadata": {},
     "output_type": "execute_result"
    },
    {
     "data": {
      "image/png": "[encoded data removed]",
      "text/plain": [
       "<Figure size 432x288 with 2 Axes>"
      ]
     },
     "metadata": {
      "needs_background": "light"
     },
     "output_type": "display_data"
    }
   ],
   "source": [
    "sns.heatmap(K, annot=True)"
   ]
  },
  {
   "cell_type": "code",
   "execution_count": 25,
   "metadata": {},
   "outputs": [
    {
     "data": {
      "image/png": "[encoded data removed]",
      "text/plain": [
       "<Figure size 432x288 with 1 Axes>"
      ]
     },
     "metadata": {
      "needs_background": "light"
     },
     "output_type": "display_data"
    }
   ],
   "source": [
    "plt.plot(history.history['accuracy'])\n",
    "plt.plot(history.history['val_accuracy'])\n",
    "plt.title('model accuracy')\n",
    "plt.ylabel('accuracy')\n",
    "plt.xlabel('epoch')\n",
    "plt.legend(['train', 'test'], loc='upper left')\n",
    "plt.show()"
   ]
  },
  {
   "cell_type": "code",
   "execution_count": 26,
   "metadata": {},
   "outputs": [
    {
     "data": {
      "image/png": "[encoded data removed]",
      "text/plain": [
       "<Figure size 432x288 with 1 Axes>"
      ]
     },
     "metadata": {
      "needs_background": "light"
     },
     "output_type": "display_data"
    }
   ],
   "source": [
    "plt.plot(history.history['loss'])\n",
    "plt.plot(history.history['val_loss'])\n",
    "plt.title('model loss')\n",
    "plt.ylabel('loss')\n",
    "plt.xlabel('epoch')\n",
    "plt.legend(['train', 'test'], loc='upper left')\n",
    "plt.show()"
   ]
  },
  {
   "cell_type": "code",
   "execution_count": null,
   "metadata": {},
   "outputs": [],
   "source": []
  }
 ],
 "metadata": {
  "kernelspec": {
   "display_name": "Python 3",
   "language": "python",
   "name": "python3"
  },
  "language_info": {
   "codemirror_mode": {
    "name": "ipython",
    "version": 3
   },
   "file_extension": ".py",
   "mimetype": "text/x-python",
   "name": "python",
   "nbconvert_exporter": "python",
   "pygments_lexer": "ipython3",
   "version": "3.8.5"
  }
 },
 "nbformat": 4,
 "nbformat_minor": 2
}
