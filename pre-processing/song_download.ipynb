{
 "cells": [
  {
   "cell_type": "code",
   "execution_count": null,
   "metadata": {},
   "outputs": [],
   "source": [
    "import codecs\n",
    "import json, os, sys\n",
    "import pickle\n",
    "import csv\n",
    "import time\n",
    "import datetime\n",
    "import collections\n",
    "import numpy as np\n",
    "import compmusic\n",
    "from compmusic import dunya \n",
    "from compmusic import dunya as dn\n",
    "from compmusic.dunya import hindustani as hi\n",
    "from compmusic.dunya import docserver as ds\n",
    "from compmusic import musicbrainz\n"
   ]
  },
  {
   "cell_type": "code",
   "execution_count": null,
   "metadata": {},
   "outputs": [],
   "source": [
    "dunya.set_token('2bd80bef6e90945815fe53660eb43faebe2346ac')\n",
    "features_dunya_all = [{'type': 'pitch', 'subtype': 'pitch', 'extension': '.pitch', 'version': 'noguessunv'},\n",
    "                         {'type': 'ctonic', 'subtype': 'tonic', 'extension': '.tonic', 'version': '0.3'},\n",
    "                         {'type': 'sama-manual', 'subtype': None, 'extension': '.sama', 'version': None},\n",
    "                         {'type': 'sections-manual', 'subtype': None, 'extension': '.sections', 'version': None},\n",
    "                         {'type': 'tempo-manual', 'subtype': None, 'extension': '.tempo', 'version': None},\n",
    "                         {'type': 'pitch-vocal', 'subtype': None, 'extension': '.mpitch', 'version': None},\n",
    "                         {'type': 'mphrases-manual', 'subtype': None, 'extension': '.mphrases', 'version': None},\n",
    "                         {'type': 'sections-manual-p', 'subtype': None, 'extension': '.sections_p', 'version': None},\n",
    "                         {'type': 'bpm-manual', 'subtype': None, 'extension': '.bpm', 'version': None}\n",
    "                         ]"
   ]
  },
  {
   "cell_type": "code",
   "execution_count": null,
   "metadata": {},
   "outputs": [],
   "source": [
    "def txt(features,mbid,dire):\n",
    "    for feature in features:\n",
    "        missingData = collections.Counter()\n",
    "        missingData[feature['type']] = 0\n",
    "        try:\n",
    "            content = ds.file_for_document(mbid, feature['type'], feature['subtype'], version=feature['version'])\n",
    "            out_file = os.path.join(dire, mp3_filename.replace('.mp3','.{}.txt'.format(feature['type'])))\n",
    "            if feature['type'] == 'pitch':\n",
    "                content = json.loads(content.decode())\n",
    "                content = np.array(content)\n",
    "                np.savetxt(out_file, content, fmt='%.7f', delimiter='\\t')\n",
    "            elif feature['type'] == 'sections-manual' or feature['type'] == 'sections-manual-p':\n",
    "                save_sections(content.decode(), out_file)\n",
    "            else:\n",
    "                with open(out_file, 'w') as fp:\n",
    "                    fp.write(content.decode())\n",
    "        except dn.HTTPError:\n",
    "            print('Does not have ',feature['type'],' content for :',mbid)\n",
    "            missingData[feature['type']] += 1\n",
    "            print('no')\n",
    "    return dict(missingData)"
   ]
  },
  {
   "cell_type": "code",
   "execution_count": null,
   "metadata": {},
   "outputs": [],
   "source": [
    "instrument_ids_list=[10] #Flute, mandolin, saxophone\n",
    "h=0\n",
    "\n",
    "for iid in instrument_ids_list:\n",
    "    for artist in dunya.carnatic.get_instrument(iid)['artists']:\n",
    "        dataDir=dunya.carnatic.get_instrument(iid)['name']\n",
    "        os.makedirs(dataDir,exist_ok=True)\n",
    "        os.makedirs(os.path.join(dataDir,'_json'),exist_ok=True)\n",
    "        os.makedirs(os.path.join(dataDir,'_txt'),exist_ok=True)\n",
    "        concerts = dunya.carnatic.get_artist(artist['mbid'])['concerts']\n",
    "        for concert in concerets:      \n",
    "            for i in compmusic.dunya.carnatic.get_concert(concert['mbid'])['recordings']:  \n",
    "                try:\n",
    "                    print(len(i))\n",
    "                    mp3_filename=dunya.carnatic.download_mp3(i['mbid'],  dataDir)\n",
    "                    json_file=mp3_filename.replace('.mp3','.json')\n",
    "                    with open(os.path.join(os.path.join(dataDir,'_json'),json_file), 'w') as outfile:\n",
    "                        json.dump(dunya.carnatic.get_recording(i['mbid']), outfile)\n",
    "                    txt(features_dunya_all,i['mbid'],os.path.join(dataDir,'_txt'))\n",
    "                except dn.HTTPError:\n",
    "                    pass"
   ]
  },
  {
   "cell_type": "code",
   "execution_count": null,
   "metadata": {},
   "outputs": [],
   "source": [
    "#hindustani\n",
    "instrument_ids_list=['0fe1a768-45ba-49e4-8363-14db8e73ca85','f689271c-37bc-4c49-92a3-a14b15ee5d0e']\n",
    "h=0\n",
    "for iid in instrument_ids_list:\n",
    "    for artist in dunya.hindustani.get_instrument(iid)['artists']:\n",
    "        dataDir=dunya.hindustani.get_instrument(iid)['name']\n",
    "        os.makedirs(dataDir,exist_ok=True)\n",
    "        os.makedirs(os.path.join(dataDir,'_json'),exist_ok=True)\n",
    "        os.makedirs(os.path.join(dataDir,'_txt'),exist_ok=True)\n",
    "        releases = dunya.hindustani.get_artist(artist['mbid'])['releases']    \n",
    "        for release in releases:\n",
    "            for i in compmusic.dunya.hindustani.get_release(release['mbid'])['recordings']:  \n",
    "                try:\n",
    "                    mp3_filename=dunya.hindustani.download_mp3(i['mbid'],  dataDir)\n",
    "                    json_file=mp3_filename.replace('.mp3','.json')\n",
    "                    with open(os.path.join(os.path.join(dataDir,'_json'),json_file), 'w') as outfile:\n",
    "                        json.dump(dunya.hindustani.get_recording(i['mbid']), outfile)\n",
    "                    txt(features_dunya_all,i['mbid'],os.path.join(dataDir,'_txt'))\n",
    "                except dn.HTTPError:\n",
    "                    pass "
   ]
  },
  {
   "cell_type": "code",
   "execution_count": null,
   "metadata": {},
   "outputs": [],
   "source": [
    "a=dunya.hindustani.get_instrument('9290b2c1-97c3-4355-a26f-c6dba89cf8ff')['artists']\n",
    "for i in a:\n",
    "    print(dunya.hindustani.get_artist(i['mbid'])['releases'],'\\n')"
   ]
  }
 ],
 "metadata": {
  "kernelspec": {
   "display_name": "Python 3",
   "language": "python",
   "name": "python3"
  },
  "language_info": {
   "codemirror_mode": {
    "name": "ipython",
    "version": 3
   },
   "file_extension": ".py",
   "mimetype": "text/x-python",
   "name": "python",
   "nbconvert_exporter": "python",
   "pygments_lexer": "ipython3",
   "version": "3.7.6"
  }
 },
 "nbformat": 4,
 "nbformat_minor": 4
}
